{
  "nbformat": 4,
  "nbformat_minor": 0,
  "metadata": {
    "colab": {
      "name": "stock2.0.ipynb",
      "provenance": [],
      "collapsed_sections": [],
      "toc_visible": true
    },
    "kernelspec": {
      "name": "python3",
      "display_name": "Python 3"
    },
    "language_info": {
      "name": "python"
    }
  },
  "cells": [
    {
      "cell_type": "markdown",
      "metadata": {
        "id": "3M3_L2Uy2PiC"
      },
      "source": [
        "# STEP1\n",
        "\n",
        "\n",
        "1.   刪除取一年中每月淨利為負的(若標準過高則再作修正)-刪除極端值\n",
        "2.   所有1~3月本益比平均or當季本益比 的 describe()-刪除極端值\n",
        "\n",
        "\n"
      ]
    },
    {
      "cell_type": "markdown",
      "metadata": {
        "id": "S8LE12FlsMXj"
      },
      "source": [
        "### 匯入套件"
      ]
    },
    {
      "cell_type": "code",
      "metadata": {
        "colab": {
          "base_uri": "https://localhost:8080/"
        },
        "id": "FBrrw37VltuD",
        "outputId": "f97d75c0-6919-48b7-c282-c5b1fc1aab4f"
      },
      "source": [
        "pip install jmespath"
      ],
      "execution_count": 1,
      "outputs": [
        {
          "output_type": "stream",
          "text": [
            "Requirement already satisfied: jmespath in /usr/local/lib/python3.7/dist-packages (0.10.0)\n"
          ],
          "name": "stdout"
        }
      ]
    },
    {
      "cell_type": "code",
      "metadata": {
        "id": "h1wBrijG46KC"
      },
      "source": [
        "import requests\n",
        "import json\n",
        "#可從json格式中取得資料(json格式定位資料位置)\n",
        "import jmespath\n",
        "import pandas as pd\n",
        "import time\n",
        "import re\n",
        "import warnings\n",
        "warnings.simplefilter(action='ignore')"
      ],
      "execution_count": 2,
      "outputs": []
    },
    {
      "cell_type": "markdown",
      "metadata": {
        "id": "7WEm3OADuTbA"
      },
      "source": [
        "### 目標資訊"
      ]
    },
    {
      "cell_type": "code",
      "metadata": {
        "id": "cW4A_eq9dqEl"
      },
      "source": [
        "#目標股票代碼\n",
        "stocklist=[\"1201\",\"1203\",\"1210\",\"1213\",\"1215\",\"1216\",\"1217\",\"1218\",\"1219\",\"1220\",\"1225\",\"1227\",\"1229\",\"1231\",\"1232\",\"1233\",\"1234\",\"1235\",\"1236\",\"1256\",\"1702\",\"1737\"]\n",
        "#目標時間\n",
        "datelist=[]\n",
        "for year in range(2019,2022):\n",
        "    for month in range(1,13):\n",
        "        date=str(year)+str(\"%02d\" % month)+\"01\"\n",
        "        if date == '20210401':\n",
        "          break\n",
        "        else:\n",
        "          datelist.append(date)"
      ],
      "execution_count": 3,
      "outputs": []
    },
    {
      "cell_type": "markdown",
      "metadata": {
        "id": "WMomcp6tuVsf"
      },
      "source": [
        "### 爬蟲(本益比資訊)"
      ]
    },
    {
      "cell_type": "code",
      "metadata": {
        "id": "QKRFi9DXiZcB"
      },
      "source": [
        "def get_peratio(stock,date):\n",
        "  #創建存放資訊dict\n",
        "  data={\"STOCK\":[],\"年分\":[],\"本益比\":[]} \n",
        "\n",
        "  for date in datelist:\n",
        "    try:\n",
        "      for stock in stocklist:\n",
        "        #替代成所需的股票代碼及時間\n",
        "        request_url = f'https://www.twse.com.tw/exchangeReport/BWIBBU?response=json&date={date}&stockNo={stock}' \n",
        "        res = requests.get(request_url)\n",
        "        resinfo = json.loads(res.text)\n",
        "        #定位所需資訊\n",
        "        peratio=jmespath.search('data[:][3][]',resinfo) \n",
        "        for peratioidx in range(len(peratio)):\n",
        "          #若該欄位並無放置資訊或資訊非浮點數格式會出錯，因此遇到錯誤則跳過\n",
        "          try:\n",
        "            #將資訊填入相對應位置\n",
        "            data['本益比'].append(float(peratio[peratioidx]))\n",
        "            data['STOCK'].append(stock)\n",
        "            data['年分'].append((re.findall(r'^2\\w{3}',date)[0]))\n",
        "          except TypeError:\n",
        "            print(peratioidx)\n",
        "            pass\n",
        "        #避免過快取得網頁資訊會被封鎖ip\n",
        "        time.sleep(3)\n",
        "    except ValueError:\n",
        "      stocklist.remove(stock)\n",
        "  return data"
      ],
      "execution_count": null,
      "outputs": []
    },
    {
      "cell_type": "code",
      "metadata": {
        "id": "axddvtOK8Zgv"
      },
      "source": [
        "df = pd.DataFrame(get_peratio(stocklist,datelist))\n",
        "#將欄位整理成以股票及年為群組，分別使用max﹑min及mean的方式\n",
        "df1 = pd.concat([df.groupby(['STOCK','年分']).mean(), df.groupby(['STOCK','年分']).min(), df.groupby(['STOCK','年分']).max()], axis=1)\n",
        "df1.columns = ['平均本益比','最小本益比','最大本益比']"
      ],
      "execution_count": null,
      "outputs": []
    },
    {
      "cell_type": "code",
      "metadata": {
        "colab": {
          "base_uri": "https://localhost:8080/"
        },
        "id": "Glt3puXbYHrH",
        "outputId": "07fb7d00-8879-4711-c7d2-0d5d4b581357"
      },
      "source": [
        "# df1.to_csv('stockstep1.csv')\n",
        "!gdown --id '1INiw55LxmkbWHSrq5hDPoPc-mAtQ4XEq'\n",
        "df1 = pd.read_csv('stockstep1.csv', index_col=0)"
      ],
      "execution_count": 4,
      "outputs": [
        {
          "output_type": "stream",
          "text": [
            "Downloading...\n",
            "From: https://drive.google.com/uc?id=1INiw55LxmkbWHSrq5hDPoPc-mAtQ4XEq\n",
            "To: /content/stockstep1.csv\n",
            "\r  0% 0.00/2.38k [00:00<?, ?B/s]\r100% 2.38k/2.38k [00:00<00:00, 4.23MB/s]\n"
          ],
          "name": "stdout"
        }
      ]
    },
    {
      "cell_type": "markdown",
      "metadata": {
        "id": "sk9W_3Kp2X1y"
      },
      "source": [
        "# STEP 2\n",
        "\n",
        "*   算出合理區間\n",
        "*   Link：https://mops.twse.com.tw/server-java/t164sb01?step=1&CO_ID=1201&SYEAR=2020&SSEASON=4&REPORT_ID=C\n",
        "\n",
        "\n",
        "\n"
      ]
    },
    {
      "cell_type": "markdown",
      "metadata": {
        "id": "9Vcgu-lQ-MgO"
      },
      "source": [
        "### 找出EPS"
      ]
    },
    {
      "cell_type": "code",
      "metadata": {
        "id": "TJoQTc_YXSu8",
        "colab": {
          "base_uri": "https://localhost:8080/"
        },
        "outputId": "443ff07c-0a8e-49d2-b53b-1820b24b88c8"
      },
      "source": [
        "#1~3->ABOUT EPS\n",
        "\n",
        "#下載所需csv\n",
        "!gdown --id '1qyBFxEfEF9jDHrTvG4i5SlNWtdCr_soC'\n",
        "!gdown --id '17iFuLmAL3jOocE0vMZKqMkERWQnTR85B'\n",
        "!gdown --id '19bqdpigtGm1J2BsV3wJgoJP98ulWMzxv'\n",
        "\n",
        "# 合併3個檔案\n",
        "read = pd.read_csv('stock_1.csv')\n",
        "read.to_csv('stockstep2_ori.csv')\n",
        "for i in range(2, 4):\n",
        "    read = pd.read_csv('stock_{}.csv'.format(i))\n",
        "    read.to_csv('stockstep2_ori.csv', header=False, mode='a+')"
      ],
      "execution_count": 5,
      "outputs": [
        {
          "output_type": "stream",
          "text": [
            "Downloading...\n",
            "From: https://drive.google.com/uc?id=1qyBFxEfEF9jDHrTvG4i5SlNWtdCr_soC\n",
            "To: /content/stock_1.csv\n",
            "100% 169k/169k [00:00<00:00, 58.3MB/s]\n",
            "Downloading...\n",
            "From: https://drive.google.com/uc?id=17iFuLmAL3jOocE0vMZKqMkERWQnTR85B\n",
            "To: /content/stock_2.csv\n",
            "100% 169k/169k [00:00<00:00, 60.9MB/s]\n",
            "Downloading...\n",
            "From: https://drive.google.com/uc?id=19bqdpigtGm1J2BsV3wJgoJP98ulWMzxv\n",
            "To: /content/stock_3.csv\n",
            "100% 153k/153k [00:00<00:00, 55.4MB/s]\n"
          ],
          "name": "stdout"
        }
      ]
    },
    {
      "cell_type": "code",
      "metadata": {
        "id": "LYWPMMd7k-ka"
      },
      "source": [
        "df2 = pd.read_csv('stockstep2_ori.csv', index_col='Unnamed: 0')"
      ],
      "execution_count": 6,
      "outputs": []
    },
    {
      "cell_type": "code",
      "metadata": {
        "id": "DDRy9eZozN7J"
      },
      "source": [
        "#利用上方剩下的股票代碼刪除新csv中不需要的股票代碼\n",
        "stocklist = [str(i) for i in list(set(df1.index.get_level_values('STOCK')))]\n",
        "df2 = df2[df2['公司代號'].isin(stocklist)]"
      ],
      "execution_count": 7,
      "outputs": []
    },
    {
      "cell_type": "code",
      "metadata": {
        "id": "iZMpyL6NM1BN"
      },
      "source": [
        "df2 = df2[[x not in list(set(df2[df2['基本每股盈餘（元）']<0]['公司代號'].tolist())) for x in df2['公司代號']]]"
      ],
      "execution_count": 8,
      "outputs": []
    },
    {
      "cell_type": "code",
      "metadata": {
        "id": "WRbVa-Oc5brP"
      },
      "source": [
        "#資料為兩年即一記得每股盈餘，因此加總/2.25\n",
        "df2 = df2.groupby(['公司代號']).sum()/2.25\n",
        "#刪除不需要的欄位\n",
        "df2 = df2.drop(df2.columns[:-1], axis=1)\n",
        "#重新命名欄位名稱\n",
        "df2 = df2.rename(columns={'公司代號': 'STOCK','基本每股盈餘（元）': 'EPS'})"
      ],
      "execution_count": 9,
      "outputs": []
    },
    {
      "cell_type": "code",
      "metadata": {
        "id": "hC1XRfw9XAah"
      },
      "source": [
        "df2.index.names = ['STOCK']"
      ],
      "execution_count": 10,
      "outputs": []
    },
    {
      "cell_type": "markdown",
      "metadata": {
        "id": "ntdF--XX-UOR"
      },
      "source": [
        "### 算出合理區間"
      ]
    },
    {
      "cell_type": "code",
      "metadata": {
        "id": "_glhlzVmJYd-"
      },
      "source": [
        "#以STOCK欄位合併兩張資料表\n",
        "df = pd.merge(df1,df2,on='STOCK')\n",
        "df = pd.concat([df.groupby(['STOCK']).min().filter(['STOCK','最小本益比'], axis=1), df.groupby(['STOCK']).max().filter(['STOCK','最大本益比'], axis=1), df.groupby(['STOCK']).mean().filter(['STOCK','平均本益比','EPS'], axis=1)], axis=1)"
      ],
      "execution_count": 11,
      "outputs": []
    },
    {
      "cell_type": "code",
      "metadata": {
        "id": "N_6h9CAAU-Fq"
      },
      "source": [
        "#算出股價區間\n",
        "df['便宜股價'] = df['最小本益比']*df['EPS']\n",
        "df['安全股價'] = ((df['最小本益比']+df['平均本益比'])/2)*df['EPS']\n",
        "df['合理股價'] = df['平均本益比']*df['EPS']\n",
        "df['觀察股價'] = ((df['最大本益比']+df['平均本益比'])/2)*df['EPS']\n",
        "df['昂貴股價'] = df['最大本益比']*df['EPS']"
      ],
      "execution_count": 12,
      "outputs": []
    },
    {
      "cell_type": "code",
      "metadata": {
        "id": "aOZzfVb_YRPd"
      },
      "source": [
        "#取小數點後第5位\n",
        "df = df.round(5)"
      ],
      "execution_count": 13,
      "outputs": []
    },
    {
      "cell_type": "code",
      "metadata": {
        "id": "pbwmODnLjLCb",
        "colab": {
          "base_uri": "https://localhost:8080/"
        },
        "outputId": "57ed01d0-6784-4dba-dcda-33ecf2375dff"
      },
      "source": [
        "df.filter(df.columns.tolist()[4:9], axis=1).to_csv('stockstep2.csv', encoding='big5')\n",
        "!gdown --id '1sARbyWVvtU_oTujMYAB58B4_9XrdnFjM'\n",
        "df2 = pd.read_csv('stockstep2.csv', index_col=0, encoding='big5')"
      ],
      "execution_count": 14,
      "outputs": [
        {
          "output_type": "stream",
          "text": [
            "Downloading...\n",
            "From: https://drive.google.com/uc?id=1sARbyWVvtU_oTujMYAB58B4_9XrdnFjM\n",
            "To: /content/stockstep2.csv\n",
            "\r  0% 0.00/1.03k [00:00<?, ?B/s]\r100% 1.03k/1.03k [00:00<00:00, 4.31MB/s]\n"
          ],
          "name": "stdout"
        }
      ]
    },
    {
      "cell_type": "code",
      "metadata": {
        "colab": {
          "base_uri": "https://localhost:8080/"
        },
        "id": "yTP1w9YXc65e",
        "outputId": "a175b3a4-8f01-4b2b-cf42-e5fb65413583"
      },
      "source": [
        "!gdown --id '1vD3StawgkocwC8YSXT9CVmq7WDV0UixV'\n",
        "usecols = ['證券代號','收盤價']\n",
        "read = pd.read_csv('stock_12.csv', index_col=0, header=2, usecols=usecols)\n",
        "# stocklist = [str(i) for i in list(set(df2.index.get_level_values('STOCK')))]\n",
        "df3_4 = read[read.index.isin(stocklist)]\n",
        "df3_4.index.names = ['STOCK']\n",
        "df3_4.index = df3_4.index.astype(int)\n",
        "df3_4 = pd.concat([df2, df3_4], axis=1)\n",
        "df3_4['SCORE_4']= (df3_4['合理股價'] - df3_4['收盤價']).rank()*2"
      ],
      "execution_count": 15,
      "outputs": [
        {
          "output_type": "stream",
          "text": [
            "Downloading...\n",
            "From: https://drive.google.com/uc?id=1vD3StawgkocwC8YSXT9CVmq7WDV0UixV\n",
            "To: /content/stock_12.csv\n",
            "\r  0% 0.00/2.85k [00:00<?, ?B/s]\r100% 2.85k/2.85k [00:00<00:00, 4.39MB/s]\n"
          ],
          "name": "stdout"
        }
      ]
    },
    {
      "cell_type": "code",
      "metadata": {
        "id": "V_afqZcP0VJg",
        "colab": {
          "base_uri": "https://localhost:8080/"
        },
        "outputId": "8c2cad28-da95-45a0-b79f-667bbbf85d2c"
      },
      "source": [
        "#4~5->ABOUT EPS\n",
        "\n",
        "#下載所需csv\n",
        "!gdown --id '1-PIx_K_r8-akJYtVYnJ6fo8WQ_Qv1r-H'\n",
        "!gdown --id '1bh4q9bEDFVFxEId50ovllExZmtl17EdW'\n",
        "!gdown --id '1Bo4uoGEMM_MXKm87GPfhwA2bk4O5BjVy'\n",
        "\n",
        "usecols = ['公司代號','毛利率(%)(營業毛利)/(營業收入)','營業利益率(%)(營業利益)/(營業收入)','稅後純益率(%)(稅後純益)/(營業收入)']\n",
        "\n",
        "# 合併3個檔案\n",
        "read = pd.read_csv('stock_4.csv', index_col=0, usecols=usecols)\n",
        "for i in range(5,7):\n",
        "    read1 = pd.read_csv('stock_{}.csv'.format(i), index_col=0, usecols=usecols)\n",
        "    read = pd.merge(read,read1,on='公司代號')\n",
        "\n",
        "\n",
        "stocklist = [str(i) for i in list(set(df2.index.get_level_values('STOCK')))]\n",
        "df3_1 = read[read.index.isin(stocklist)]\n",
        "df3_1.index.names = ['STOCK']\n",
        "df3_1['SCORE_1']=0"
      ],
      "execution_count": 16,
      "outputs": [
        {
          "output_type": "stream",
          "text": [
            "Downloading...\n",
            "From: https://drive.google.com/uc?id=1-PIx_K_r8-akJYtVYnJ6fo8WQ_Qv1r-H\n",
            "To: /content/stock_4.csv\n",
            "100% 40.5k/40.5k [00:00<00:00, 14.5MB/s]\n",
            "Downloading...\n",
            "From: https://drive.google.com/uc?id=1bh4q9bEDFVFxEId50ovllExZmtl17EdW\n",
            "To: /content/stock_5.csv\n",
            "100% 41.1k/41.1k [00:00<00:00, 15.0MB/s]\n",
            "Downloading...\n",
            "From: https://drive.google.com/uc?id=1Bo4uoGEMM_MXKm87GPfhwA2bk4O5BjVy\n",
            "To: /content/stock_6.csv\n",
            "100% 40.7k/40.7k [00:00<00:00, 14.7MB/s]\n"
          ],
          "name": "stdout"
        }
      ]
    },
    {
      "cell_type": "code",
      "metadata": {
        "colab": {
          "base_uri": "https://localhost:8080/"
        },
        "id": "2jKYS4Z7QU60",
        "outputId": "6e379bc6-a3e6-437b-e93f-9e1bc466b694"
      },
      "source": [
        "!gdown --id '13krszbw-j3a3lEOsnrohd62ErYa1KOSn'\n",
        "!gdown --id '1OoYey4KXJaGPnYsGyWAh8R0ME5YscZ25'\n",
        "!gdown --id '1NDmk6RNxqK9F7ea9mD4hfYpEZwicTUB5'\n",
        "\n",
        "usecols = ['證  券  名  稱','成  交  量']\n",
        "\n",
        "# 合併3個檔案\n",
        "read = pd.read_csv('stock_7.csv', header=1, index_col=0, usecols=usecols)\n",
        "read = read.iloc[16:38]\n",
        "for i in range(8,10):\n",
        "    read1 = pd.read_csv('stock_{}.csv'.format(i), header=1, index_col=0, usecols=usecols)\n",
        "    read1 = read1.iloc[16:38]\n",
        "    read = pd.merge(read,read1,on='證  券  名  稱')\n",
        "\n",
        "read.index = read.index.to_series().apply(lambda x:re.findall(r'^1\\w{3}',x)[0])\n",
        "# stocklist = [str(i) for i in list(set(df2.index.get_level_values('STOCK')))]\n",
        "df3_2 = read[read.index.isin(stocklist)]\n",
        "df3_2.index.names = ['STOCK']\n",
        "df3_2.index = df3_2.index.astype(int)\n",
        "df3_2['SCORE_2'] = 0\n",
        "for idx in df3_2.columns[:-1]:\n",
        "  df3_2[idx] = df3_2[idx].apply(lambda x:x.replace(\",\", \"\"))"
      ],
      "execution_count": 17,
      "outputs": [
        {
          "output_type": "stream",
          "text": [
            "Downloading...\n",
            "From: https://drive.google.com/uc?id=13krszbw-j3a3lEOsnrohd62ErYa1KOSn\n",
            "To: /content/stock_7.csv\n",
            "100% 1.88M/1.88M [00:00<00:00, 60.3MB/s]\n",
            "Downloading...\n",
            "From: https://drive.google.com/uc?id=1OoYey4KXJaGPnYsGyWAh8R0ME5YscZ25\n",
            "To: /content/stock_8.csv\n",
            "100% 1.85M/1.85M [00:00<00:00, 57.3MB/s]\n",
            "Downloading...\n",
            "From: https://drive.google.com/uc?id=1NDmk6RNxqK9F7ea9mD4hfYpEZwicTUB5\n",
            "To: /content/stock_9.csv\n",
            "100% 1.94M/1.94M [00:00<00:00, 60.5MB/s]\n"
          ],
          "name": "stdout"
        }
      ]
    },
    {
      "cell_type": "code",
      "metadata": {
        "colab": {
          "base_uri": "https://localhost:8080/"
        },
        "id": "XtvxS21F0dDn",
        "outputId": "732ba23f-a461-47c3-bca4-e5c5b49bf7fd"
      },
      "source": [
        "!gdown --id '1cCu1PyZHAQ-U7aWBzHoMCX_czuvaigOo'\n",
        "!gdown --id '1200qFzf6D2hf1fBCLhvsEhsDt86AALFY'\n",
        "usecols = ['公司代號','財務結構-負債佔資產比率(%)','償債能力-速動比率(%)','經營能力-應收款項週轉率(次)','經營能力-存貨週轉率(次)','經營能力-總資產週轉率(次)']\n",
        " \n",
        "# 合併2個檔案\n",
        "read = pd.read_csv('stock_10.csv', index_col=0, usecols=usecols)\n",
        "read1 = pd.read_csv('stock_11.csv', index_col=0, usecols=usecols)\n",
        "read = pd.merge(read,read1,on='公司代號')\n",
        " \n",
        "# stocklist = [str(i) for i in list(set(df2.index.get_level_values('STOCK')))]\n",
        "df3_3 = read[read.index.isin(stocklist)]\n",
        "df3_3.index.names = ['STOCK']\n",
        "df3_3['SCORE_3'] = 0"
      ],
      "execution_count": 18,
      "outputs": [
        {
          "output_type": "stream",
          "text": [
            "Downloading...\n",
            "From: https://drive.google.com/uc?id=1cCu1PyZHAQ-U7aWBzHoMCX_czuvaigOo\n",
            "To: /content/stock_10.csv\n",
            "100% 118k/118k [00:00<00:00, 41.9MB/s]\n",
            "Downloading...\n",
            "From: https://drive.google.com/uc?id=1200qFzf6D2hf1fBCLhvsEhsDt86AALFY\n",
            "To: /content/stock_11.csv\n",
            "100% 118k/118k [00:00<00:00, 35.2MB/s]\n"
          ],
          "name": "stdout"
        }
      ]
    },
    {
      "cell_type": "code",
      "metadata": {
        "id": "c0v23vvqRk24"
      },
      "source": [
        "for  idx in df3_1.columns:\n",
        "  df3_1[idx] = pd.to_numeric(df3_1[idx])\n",
        "for  idx in df3_2.columns:\n",
        "  df3_2[idx] = pd.to_numeric(df3_2[idx])\n",
        "for  idx in df3_3.columns:\n",
        "  df3_3[idx] = pd.to_numeric(df3_3[idx])"
      ],
      "execution_count": 19,
      "outputs": []
    },
    {
      "cell_type": "code",
      "metadata": {
        "id": "aUwYwkUsr8nv"
      },
      "source": [
        "# def col1(df):\n",
        "for idx in range(len(df3_2)):\n",
        "  if (df3_2['成  交  量_x'].iloc[idx]+df3_2['成  交  量_y'].iloc[idx]+df3_2['成  交  量'].iloc[idx])/3>1000000:\n",
        "    df3_2['SCORE_2'].iloc[idx] = df3_2['SCORE_2'].iloc[idx]+10\n",
        "    # return df\n",
        "# def col2(df):\n",
        "for idx in range(len(df3_3)):\n",
        "  if df3_3['財務結構-負債佔資產比率(%)_y'].iloc[idx]<50:\n",
        "    df3_3['SCORE_3'].iloc[idx]= df3_3['SCORE_3'].iloc[idx]+10\n",
        "    # return df\n",
        "# def col3(df):\n",
        "for idx in range(len(df3_3)):\n",
        "  if df3_3['償債能力-速動比率(%)_y'].iloc[idx]>80:\n",
        "    df3_3['SCORE_3'].iloc[idx] = df3_3['SCORE_3'].iloc[idx]+10\n",
        "    # return df\n",
        "# def col4(df):\n",
        "for idx in range(len(df3_3)):\n",
        "  if df3_3['經營能力-應收款項週轉率(次)_y'].iloc[idx]-df3_3['經營能力-應收款項週轉率(次)_x'].iloc[idx]>0:\n",
        "    df3_3['SCORE_3'].iloc[idx] = df3_3['SCORE_3'].iloc[idx]+5\n",
        "    # return df\n",
        "# def col5(df):\n",
        "for idx in range(len(df3_3)):\n",
        "  if df3_3['經營能力-存貨週轉率(次)_y'].iloc[idx]-df3_3['經營能力-存貨週轉率(次)_x'].iloc[idx]>0:\n",
        "    df3_3['SCORE_3'].iloc[idx] = df3_3['SCORE_3'].iloc[idx]+5\n",
        "    # return df\n",
        "# def col6(df):\n",
        "for idx in range(len(df3_3)):\n",
        "  if df3_3['經營能力-總資產週轉率(次)_y'].iloc[idx]>0.9:\n",
        "    df3_3['SCORE_3'].iloc[idx] = df3_3['SCORE_3'].iloc[idx]+5\n",
        "    # return df\n",
        "# def col7(df):\n",
        "for idx in range(len(df3_1)):\n",
        "  if df3_1['毛利率(%)(營業毛利)/(營業收入)'].iloc[idx]-df3_1['毛利率(%)(營業毛利)/(營業收入)_y'].iloc[idx]>0:\n",
        "    df3_1['SCORE_1'].iloc[idx] = df3_1['SCORE_1'].iloc[idx]+10\n",
        "    # return df\n",
        "# def col8(df):\n",
        "for idx in range(len(df3_1)):\n",
        "  if df3_1['營業利益率(%)(營業利益)/(營業收入)'].iloc[idx]-df3_1['毛利率(%)(營業毛利)/(營業收入)'].iloc[idx]<20:\n",
        "    if df3_1['營業利益率(%)(營業利益)/(營業收入)'].iloc[idx]-df3_1['營業利益率(%)(營業利益)/(營業收入)_x'].iloc[idx]>0:\n",
        "        df3_1['SCORE_1'].iloc[idx] = df3_1['SCORE_1'].iloc[idx]+10\n",
        "    # return df\n",
        "# def col9(df):\n",
        "for idx in range(len(df3_1)):\n",
        "  if df3_1['稅後純益率(%)(稅後純益)/(營業收入)'].iloc[idx]>0:\n",
        "    if df3_1['稅後純益率(%)(稅後純益)/(營業收入)_x'].iloc[idx]>0:\n",
        "      if df3_1['稅後純益率(%)(稅後純益)/(營業收入)'].iloc[idx]-df3_1['稅後純益率(%)(稅後純益)/(營業收入)_x'].iloc[idx]>0.01:\n",
        "          df3_1['SCORE_1'].iloc[idx] = df3_1['SCORE_1'].iloc[idx]+10\n",
        "    # return df"
      ],
      "execution_count": 20,
      "outputs": []
    },
    {
      "cell_type": "code",
      "metadata": {
        "id": "TP-i_BbVYJej"
      },
      "source": [
        "# df3_1 = col9(col8(col7(df3_1)))\n",
        "# df3_2 = col1(df3_2)\n",
        "# df3_3 = col6(col5(col4(col3(col2(df3_3)))))"
      ],
      "execution_count": 21,
      "outputs": []
    },
    {
      "cell_type": "code",
      "metadata": {
        "id": "WFW5TG76Z2ZJ"
      },
      "source": [
        "df = pd.concat([df3_1.filter(['STOCK','SCORE_1'], axis=1), df3_2.filter(['SCORE_2'], axis=1), df3_3.filter(['SCORE_3'], axis=1), df3_4.filter(['SCORE_4'], axis=1)], axis=1).fillna(0)"
      ],
      "execution_count": 22,
      "outputs": []
    },
    {
      "cell_type": "code",
      "metadata": {
        "id": "IHYBw8nXjLRX"
      },
      "source": [
        "df['FINAL_SCORE'] = df.sum(axis = 1)\n",
        "df['FINAL_RANK'] = df['FINAL_SCORE'].rank()"
      ],
      "execution_count": 23,
      "outputs": []
    },
    {
      "cell_type": "code",
      "metadata": {
        "colab": {
          "base_uri": "https://localhost:8080/",
          "height": 673
        },
        "id": "7XR8_6VxioL3",
        "outputId": "8b45eb4f-1268-4248-8058-ab8051d8d34a"
      },
      "source": [
        "df"
      ],
      "execution_count": 24,
      "outputs": [
        {
          "output_type": "execute_result",
          "data": {
            "text/html": [
              "<div>\n",
              "<style scoped>\n",
              "    .dataframe tbody tr th:only-of-type {\n",
              "        vertical-align: middle;\n",
              "    }\n",
              "\n",
              "    .dataframe tbody tr th {\n",
              "        vertical-align: top;\n",
              "    }\n",
              "\n",
              "    .dataframe thead th {\n",
              "        text-align: right;\n",
              "    }\n",
              "</style>\n",
              "<table border=\"1\" class=\"dataframe\">\n",
              "  <thead>\n",
              "    <tr style=\"text-align: right;\">\n",
              "      <th></th>\n",
              "      <th>SCORE_1</th>\n",
              "      <th>SCORE_2</th>\n",
              "      <th>SCORE_3</th>\n",
              "      <th>SCORE_4</th>\n",
              "      <th>FINAL_SCORE</th>\n",
              "      <th>FINAL_RANK</th>\n",
              "    </tr>\n",
              "    <tr>\n",
              "      <th>STOCK</th>\n",
              "      <th></th>\n",
              "      <th></th>\n",
              "      <th></th>\n",
              "      <th></th>\n",
              "      <th></th>\n",
              "      <th></th>\n",
              "    </tr>\n",
              "  </thead>\n",
              "  <tbody>\n",
              "    <tr>\n",
              "      <th>1201</th>\n",
              "      <td>30.0</td>\n",
              "      <td>10.0</td>\n",
              "      <td>5.0</td>\n",
              "      <td>36.0</td>\n",
              "      <td>81.0</td>\n",
              "      <td>16.0</td>\n",
              "    </tr>\n",
              "    <tr>\n",
              "      <th>1203</th>\n",
              "      <td>20.0</td>\n",
              "      <td>10.0</td>\n",
              "      <td>20.0</td>\n",
              "      <td>6.0</td>\n",
              "      <td>56.0</td>\n",
              "      <td>6.0</td>\n",
              "    </tr>\n",
              "    <tr>\n",
              "      <th>1210</th>\n",
              "      <td>10.0</td>\n",
              "      <td>10.0</td>\n",
              "      <td>25.0</td>\n",
              "      <td>8.0</td>\n",
              "      <td>53.0</td>\n",
              "      <td>3.0</td>\n",
              "    </tr>\n",
              "    <tr>\n",
              "      <th>1215</th>\n",
              "      <td>20.0</td>\n",
              "      <td>10.0</td>\n",
              "      <td>15.0</td>\n",
              "      <td>18.0</td>\n",
              "      <td>63.0</td>\n",
              "      <td>10.0</td>\n",
              "    </tr>\n",
              "    <tr>\n",
              "      <th>1216</th>\n",
              "      <td>10.0</td>\n",
              "      <td>10.0</td>\n",
              "      <td>10.0</td>\n",
              "      <td>20.0</td>\n",
              "      <td>50.0</td>\n",
              "      <td>2.0</td>\n",
              "    </tr>\n",
              "    <tr>\n",
              "      <th>1217</th>\n",
              "      <td>10.0</td>\n",
              "      <td>10.0</td>\n",
              "      <td>15.0</td>\n",
              "      <td>32.0</td>\n",
              "      <td>67.0</td>\n",
              "      <td>12.0</td>\n",
              "    </tr>\n",
              "    <tr>\n",
              "      <th>1218</th>\n",
              "      <td>10.0</td>\n",
              "      <td>10.0</td>\n",
              "      <td>25.0</td>\n",
              "      <td>10.0</td>\n",
              "      <td>55.0</td>\n",
              "      <td>5.0</td>\n",
              "    </tr>\n",
              "    <tr>\n",
              "      <th>1219</th>\n",
              "      <td>20.0</td>\n",
              "      <td>10.0</td>\n",
              "      <td>25.0</td>\n",
              "      <td>38.0</td>\n",
              "      <td>93.0</td>\n",
              "      <td>19.0</td>\n",
              "    </tr>\n",
              "    <tr>\n",
              "      <th>1220</th>\n",
              "      <td>30.0</td>\n",
              "      <td>10.0</td>\n",
              "      <td>20.0</td>\n",
              "      <td>26.0</td>\n",
              "      <td>86.0</td>\n",
              "      <td>17.0</td>\n",
              "    </tr>\n",
              "    <tr>\n",
              "      <th>1225</th>\n",
              "      <td>30.0</td>\n",
              "      <td>10.0</td>\n",
              "      <td>15.0</td>\n",
              "      <td>34.0</td>\n",
              "      <td>89.0</td>\n",
              "      <td>18.0</td>\n",
              "    </tr>\n",
              "    <tr>\n",
              "      <th>1227</th>\n",
              "      <td>0.0</td>\n",
              "      <td>10.0</td>\n",
              "      <td>35.0</td>\n",
              "      <td>16.0</td>\n",
              "      <td>61.0</td>\n",
              "      <td>8.0</td>\n",
              "    </tr>\n",
              "    <tr>\n",
              "      <th>1229</th>\n",
              "      <td>30.0</td>\n",
              "      <td>10.0</td>\n",
              "      <td>10.0</td>\n",
              "      <td>12.0</td>\n",
              "      <td>62.0</td>\n",
              "      <td>9.0</td>\n",
              "    </tr>\n",
              "    <tr>\n",
              "      <th>1231</th>\n",
              "      <td>30.0</td>\n",
              "      <td>10.0</td>\n",
              "      <td>20.0</td>\n",
              "      <td>4.0</td>\n",
              "      <td>64.0</td>\n",
              "      <td>11.0</td>\n",
              "    </tr>\n",
              "    <tr>\n",
              "      <th>1232</th>\n",
              "      <td>30.0</td>\n",
              "      <td>10.0</td>\n",
              "      <td>35.0</td>\n",
              "      <td>30.0</td>\n",
              "      <td>105.0</td>\n",
              "      <td>20.0</td>\n",
              "    </tr>\n",
              "    <tr>\n",
              "      <th>1233</th>\n",
              "      <td>30.0</td>\n",
              "      <td>0.0</td>\n",
              "      <td>20.0</td>\n",
              "      <td>28.0</td>\n",
              "      <td>78.0</td>\n",
              "      <td>15.0</td>\n",
              "    </tr>\n",
              "    <tr>\n",
              "      <th>1234</th>\n",
              "      <td>20.0</td>\n",
              "      <td>10.0</td>\n",
              "      <td>25.0</td>\n",
              "      <td>14.0</td>\n",
              "      <td>69.0</td>\n",
              "      <td>13.0</td>\n",
              "    </tr>\n",
              "    <tr>\n",
              "      <th>1235</th>\n",
              "      <td>0.0</td>\n",
              "      <td>0.0</td>\n",
              "      <td>0.0</td>\n",
              "      <td>0.0</td>\n",
              "      <td>0.0</td>\n",
              "      <td>1.0</td>\n",
              "    </tr>\n",
              "    <tr>\n",
              "      <th>1256</th>\n",
              "      <td>20.0</td>\n",
              "      <td>10.0</td>\n",
              "      <td>25.0</td>\n",
              "      <td>2.0</td>\n",
              "      <td>57.0</td>\n",
              "      <td>7.0</td>\n",
              "    </tr>\n",
              "    <tr>\n",
              "      <th>1702</th>\n",
              "      <td>20.0</td>\n",
              "      <td>10.0</td>\n",
              "      <td>0.0</td>\n",
              "      <td>24.0</td>\n",
              "      <td>54.0</td>\n",
              "      <td>4.0</td>\n",
              "    </tr>\n",
              "    <tr>\n",
              "      <th>1737</th>\n",
              "      <td>20.0</td>\n",
              "      <td>10.0</td>\n",
              "      <td>25.0</td>\n",
              "      <td>22.0</td>\n",
              "      <td>77.0</td>\n",
              "      <td>14.0</td>\n",
              "    </tr>\n",
              "  </tbody>\n",
              "</table>\n",
              "</div>"
            ],
            "text/plain": [
              "       SCORE_1  SCORE_2  SCORE_3  SCORE_4  FINAL_SCORE  FINAL_RANK\n",
              "STOCK                                                             \n",
              "1201      30.0     10.0      5.0     36.0         81.0        16.0\n",
              "1203      20.0     10.0     20.0      6.0         56.0         6.0\n",
              "1210      10.0     10.0     25.0      8.0         53.0         3.0\n",
              "1215      20.0     10.0     15.0     18.0         63.0        10.0\n",
              "1216      10.0     10.0     10.0     20.0         50.0         2.0\n",
              "1217      10.0     10.0     15.0     32.0         67.0        12.0\n",
              "1218      10.0     10.0     25.0     10.0         55.0         5.0\n",
              "1219      20.0     10.0     25.0     38.0         93.0        19.0\n",
              "1220      30.0     10.0     20.0     26.0         86.0        17.0\n",
              "1225      30.0     10.0     15.0     34.0         89.0        18.0\n",
              "1227       0.0     10.0     35.0     16.0         61.0         8.0\n",
              "1229      30.0     10.0     10.0     12.0         62.0         9.0\n",
              "1231      30.0     10.0     20.0      4.0         64.0        11.0\n",
              "1232      30.0     10.0     35.0     30.0        105.0        20.0\n",
              "1233      30.0      0.0     20.0     28.0         78.0        15.0\n",
              "1234      20.0     10.0     25.0     14.0         69.0        13.0\n",
              "1235       0.0      0.0      0.0      0.0          0.0         1.0\n",
              "1256      20.0     10.0     25.0      2.0         57.0         7.0\n",
              "1702      20.0     10.0      0.0     24.0         54.0         4.0\n",
              "1737      20.0     10.0     25.0     22.0         77.0        14.0"
            ]
          },
          "metadata": {
            "tags": []
          },
          "execution_count": 24
        }
      ]
    },
    {
      "cell_type": "code",
      "metadata": {
        "id": "wfLG1nhrnasE"
      },
      "source": [
        "df.to_csv('stockstep3.csv', encoding='big5')"
      ],
      "execution_count": 25,
      "outputs": []
    },
    {
      "cell_type": "code",
      "metadata": {
        "id": "MGpC427EoNIa"
      },
      "source": [
        ""
      ],
      "execution_count": null,
      "outputs": []
    }
  ]
}