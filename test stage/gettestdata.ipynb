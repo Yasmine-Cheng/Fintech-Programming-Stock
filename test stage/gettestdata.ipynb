{
 "cells": [
  {
   "cell_type": "code",
   "execution_count": 1,
   "metadata": {},
   "outputs": [],
   "source": [
    "import requests\n",
    "import json\n",
    "import jmespath\n",
    "import pandas as pd\n",
    "import time\n",
    "datelist=[]\n",
    "for year in range(2016,2021):\n",
    "    for month in range(1,13):\n",
    "        date=str(year)+str(\"%02d\" % month)+\"01\"\n",
    "        datelist.append(date)\n",
    "\n",
    "stocklist=[\"1216\"]\n",
    "data={\"時間\":[],\"本益比\":[]}\n",
    "for date in datelist:\n",
    "    for stock in stocklist:\n",
    "        request_url = f'https://www.twse.com.tw/exchangeReport/BWIBBU?response=json&date={date}&stockNo={stock}'\n",
    "        res = requests.get(request_url)\n",
    "        resinfo = json.loads(res.text)\n",
    "        eps=jmespath.search('data[:][3][]',resinfo)\n",
    "        for epsidx in range(len(eps)):\n",
    "            data['本益比'].append(float(eps[epsidx]))\n",
    "            data['時間'].append(date)\n",
    "        time.sleep(3)"
   ]
  },
  {
   "cell_type": "code",
   "execution_count": 3,
   "metadata": {},
   "outputs": [],
   "source": [
    "df = pd.DataFrame(data)"
   ]
  },
  {
   "cell_type": "code",
   "execution_count": 4,
   "metadata": {
    "collapsed": true
   },
   "outputs": [
    {
     "name": "stdout",
     "output_type": "stream",
     "text": [
      "本益比    19.06\n",
      "Name: 50%, dtype: float64\n",
      "本益比    15.414167\n",
      "Name: mean, dtype: float64\n"
     ]
    }
   ],
   "source": [
    "#中位數\n",
    "print(df.describe().loc['50%'])\n",
    "#平均數\n",
    "print(df.describe().loc['mean'])"
   ]
  },
  {
   "cell_type": "code",
   "execution_count": 5,
   "metadata": {
    "collapsed": true
   },
   "outputs": [
    {
     "data": {
      "text/plain": [
       "時間\n",
       "20160101     3.25\n",
       "20160201     3.36\n",
       "20160301     3.43\n",
       "20160401     3.49\n",
       "20160501     3.52\n",
       "20160601     3.68\n",
       "20160701     3.81\n",
       "20160801     4.03\n",
       "20160901     3.76\n",
       "20161001     3.83\n",
       "20161101     3.77\n",
       "20161201     3.37\n",
       "20170101     3.33\n",
       "20170201     3.36\n",
       "20170301     3.51\n",
       "20170401    22.73\n",
       "20170501    23.49\n",
       "20170601    23.84\n",
       "20170701    23.68\n",
       "20170801    25.02\n",
       "20170901    25.80\n",
       "20171001    25.49\n",
       "20171101    24.82\n",
       "20171201    23.33\n",
       "20180101    24.56\n",
       "20180201    24.67\n",
       "20180301    24.60\n",
       "20180401    10.47\n",
       "20180501    10.53\n",
       "20180601    11.10\n",
       "20180701    11.81\n",
       "20180801    11.29\n",
       "20180901    11.21\n",
       "20181001    11.08\n",
       "20181101    10.89\n",
       "20181201    10.47\n",
       "20190101    10.47\n",
       "20190201    10.71\n",
       "20190301    24.36\n",
       "20190401    24.46\n",
       "20190501    25.12\n",
       "20190601    25.52\n",
       "20190701    25.62\n",
       "20190801    23.80\n",
       "20190901    23.71\n",
       "20191001    23.04\n",
       "20191101    23.22\n",
       "20191201    22.63\n",
       "20200101    22.87\n",
       "20200201    22.69\n",
       "20200301    22.24\n",
       "20200401    20.96\n",
       "20200501    22.75\n",
       "20200601    23.31\n",
       "20200701    23.06\n",
       "20200801    22.09\n",
       "20200901    20.18\n",
       "20201001    19.15\n",
       "20201101    19.67\n",
       "20201201    18.52\n",
       "Name: 本益比, dtype: float64"
      ]
     },
     "execution_count": 5,
     "metadata": {},
     "output_type": "execute_result"
    }
   ],
   "source": [
    "#每月中的最大值\n",
    "df.groupby(['時間'], sort=False)['本益比'].max()"
   ]
  },
  {
   "cell_type": "code",
   "execution_count": 6,
   "metadata": {},
   "outputs": [],
   "source": [
    "def op(year,how):\n",
    "    year = str(year)\n",
    "    return df[df['時間'].str.contains(year)]['本益比'].describe().loc[how]"
   ]
  },
  {
   "cell_type": "code",
   "execution_count": 7,
   "metadata": {
    "collapsed": true
   },
   "outputs": [
    {
     "name": "stdout",
     "output_type": "stream",
     "text": [
      "8.64\n",
      "34.17984\n"
     ]
    }
   ],
   "source": [
    "#最小值\n",
    "\n",
    "#(5年裡每年最低的本益比)/5\n",
    "total = 0\n",
    "for y in range(2016,2021):\n",
    "    total+=op(y,'min')\n",
    "print(total/5)\n",
    "\n",
    "print(total/5*3.956)"
   ]
  },
  {
   "cell_type": "code",
   "execution_count": 8,
   "metadata": {
    "collapsed": true
   },
   "outputs": [
    {
     "name": "stdout",
     "output_type": "stream",
     "text": [
      "15.417858671853656\n",
      "60.993048905853065\n"
     ]
    }
   ],
   "source": [
    "#中間值\n",
    "\n",
    "#(5年裡每年平均本益比)/5\n",
    "total = 0\n",
    "for y in range(2016,2021):\n",
    "    total+=op(y,'mean')\n",
    "print(total/5)\n",
    "\n",
    "print(total/5*3.956)"
   ]
  },
  {
   "cell_type": "code",
   "execution_count": 9,
   "metadata": {
    "collapsed": true
   },
   "outputs": [
    {
     "name": "stdout",
     "output_type": "stream",
     "text": [
      "20.686\n",
      "81.833816\n"
     ]
    }
   ],
   "source": [
    "#最大值\n",
    "\n",
    "#(5年裡每年最高的本益比)/5\n",
    "total = 0\n",
    "for y in range(2016,2021):\n",
    "    total+=op(y,'max')\n",
    "print(total/5)\n",
    "\n",
    "print(total/5*3.956)"
   ]
  },
  {
   "cell_type": "code",
   "execution_count": 10,
   "metadata": {
    "collapsed": true
   },
   "outputs": [
    {
     "name": "stdout",
     "output_type": "stream",
     "text": [
      "本益比    11.025\n",
      "Name: 50%, dtype: float64\n",
      "本益比    43.6149\n",
      "Name: 50%, dtype: float64\n"
     ]
    }
   ],
   "source": [
    "#P25\n",
    "tempp25 = (min(df['本益比'])+df.describe().loc['50%'])/2\n",
    "print(tempp25)\n",
    "\n",
    "print(tempp25*3.956)"
   ]
  },
  {
   "cell_type": "code",
   "execution_count": 11,
   "metadata": {
    "collapsed": true
   },
   "outputs": [
    {
     "name": "stdout",
     "output_type": "stream",
     "text": [
      "本益比    22.43\n",
      "Name: 50%, dtype: float64\n",
      "本益比    88.73308\n",
      "Name: 50%, dtype: float64\n"
     ]
    }
   ],
   "source": [
    "#P75\n",
    "tempp75 = (max(df['本益比'])+df.describe().loc['50%'])/2\n",
    "print(tempp75)\n",
    "\n",
    "print(tempp75*3.956)"
   ]
  }
 ],
 "metadata": {
  "kernelspec": {
   "display_name": "Python 3",
   "language": "python",
   "name": "python3"
  },
  "language_info": {
   "codemirror_mode": {
    "name": "ipython",
    "version": 3
   },
   "file_extension": ".py",
   "mimetype": "text/x-python",
   "name": "python",
   "nbconvert_exporter": "python",
   "pygments_lexer": "ipython3",
   "version": "3.8.3"
  }
 },
 "nbformat": 4,
 "nbformat_minor": 4
}
